{
 "cells": [
  {
   "cell_type": "markdown",
   "metadata": {},
   "source": [
    "# Diving into the Stackoverflow 2019 survey with open source library Quantipy\n",
    "\n",
    "Quantipy is an open source software library specifically targeted at survey data. It offers a rich meta-data system and offers support for native handling of special data types like multiple choice variables, statistical analysis using case or observation weights, pretty data exports.\n",
    "\n",
    "In this first in a series of posts, we will use Quantipy to analyze results from the Stackoverflow 2019 developer survey. Almost 90,000 developers answered the survey, telling Stackoverflow about their attitudes towards technology, what tools they use and what they want."
   ]
  },
  {
   "cell_type": "markdown",
   "metadata": {},
   "source": [
    "## Loading data in to Quantipy\n",
    "We start by loading two datasets into Quantipy. We've previously converted the CSV data Stackoverflow make publicly available into two Quantipy files, a CSV with the data and a json file with the meta-data. We've also filtered these into two seperate datasets. One contains all answers in the survey, and the other one only has answers from people who said their organisation is using the Blockchain in some way. "
   ]
  },
  {
   "cell_type": "code",
   "execution_count": 70,
   "metadata": {},
   "outputs": [],
   "source": [
    "import quantipy_notebook as qpn\n",
    "from quantipy_notebook.plot import *\n",
    "from quantipy_notebook.calculate import *\n"
   ]
  },
  {
   "cell_type": "code",
   "execution_count": 71,
   "metadata": {},
   "outputs": [
    {
     "name": "stdout",
     "output_type": "stream",
     "text": [
      "b'DataSet: data/final/Stackoverflow 2019\\nrows: 88883 - columns: 95\\nDimensions compatibility mode: True'\n",
      "b'DataSet: data/final/Blockchain implementers 2019\\nrows: 8635 - columns: 93\\nDimensions compatibility mode: True'\n"
     ]
    }
   ],
   "source": [
    "ds_all = qp.DataSet(\"Stackoverflow 2019\")\n",
    "ds_all.read_quantipy('data/final/stackoverflow2019.json', 'data/final/stackoverflow2019.csv')\n",
    "\n",
    "ds_btc = qp.DataSet(\"Blockchain implementers 2019\")\n",
    "ds_btc.read_quantipy('data/final/stackoverflow2019-filter-blockchain.json', \n",
    "                     'data/final/stackoverflow2019-filter-blockchain.csv')"
   ]
  },
  {
   "cell_type": "markdown",
   "metadata": {},
   "source": [
    "## Blockchain: attitudes and adoption\n",
    "Our angle in this analysis is based on two questions asked about Blockchain, the technology that powers Bitcoin among other things. The survey had two questions about Blockchain, one about whether a respondent's organisation was using it and another about whether it was useful or a waste of resources.\n",
    "\n",
    "We use the first question to divide the respondents into two groups. One group has all developers and the other has those who said they work for an organisation that is \n",
    " * implementing crypto-currency based products, \n",
    " * implementing their own crypto-currency or\n",
    " * applying blockchain technology for non currency applications"
   ]
  },
  {
   "cell_type": "markdown",
   "metadata": {},
   "source": [
    "We do a quick sanity check to see what the distribution looks like, by looking at the variable we filtered by in the dataset that has all respondents."
   ]
  },
  {
   "cell_type": "code",
   "execution_count": 72,
   "metadata": {},
   "outputs": [
    {
     "data": {
      "text/html": [
       "<div>\n",
       "<style scoped>\n",
       "    .dataframe tbody tr th:only-of-type {\n",
       "        vertical-align: middle;\n",
       "    }\n",
       "\n",
       "    .dataframe tbody tr th {\n",
       "        vertical-align: top;\n",
       "    }\n",
       "\n",
       "    .dataframe thead th {\n",
       "        text-align: right;\n",
       "    }\n",
       "</style>\n",
       "<table border=\"1\" class=\"dataframe\">\n",
       "  <thead>\n",
       "    <tr style=\"text-align: right;\">\n",
       "      <th>single</th>\n",
       "      <th>codes</th>\n",
       "      <th>texts</th>\n",
       "      <th>missing</th>\n",
       "    </tr>\n",
       "    <tr>\n",
       "      <th>BlockchainOrg: How is your organization thinking about or implementing blockchain technology?</th>\n",
       "      <th></th>\n",
       "      <th></th>\n",
       "      <th></th>\n",
       "    </tr>\n",
       "  </thead>\n",
       "  <tbody>\n",
       "    <tr>\n",
       "      <th>1</th>\n",
       "      <td>1</td>\n",
       "      <td>Accepting Bitcoin or other coins and tokens as...</td>\n",
       "      <td>None</td>\n",
       "    </tr>\n",
       "    <tr>\n",
       "      <th>2</th>\n",
       "      <td>2</td>\n",
       "      <td>Implementing cryptocurrency-based products</td>\n",
       "      <td>None</td>\n",
       "    </tr>\n",
       "    <tr>\n",
       "      <th>3</th>\n",
       "      <td>3</td>\n",
       "      <td>Implementing our own cryptocurrency</td>\n",
       "      <td>None</td>\n",
       "    </tr>\n",
       "    <tr>\n",
       "      <th>4</th>\n",
       "      <td>4</td>\n",
       "      <td>Non-currency applications of blockchain</td>\n",
       "      <td>None</td>\n",
       "    </tr>\n",
       "    <tr>\n",
       "      <th>5</th>\n",
       "      <td>5</td>\n",
       "      <td>Not at all</td>\n",
       "      <td>None</td>\n",
       "    </tr>\n",
       "  </tbody>\n",
       "</table>\n",
       "</div>"
      ],
      "text/plain": [
       "single                                              codes                                              texts missing\n",
       "BlockchainOrg: How is your organization thinkin...                                                                  \n",
       "1                                                       1  Accepting Bitcoin or other coins and tokens as...    None\n",
       "2                                                       2         Implementing cryptocurrency-based products    None\n",
       "3                                                       3                Implementing our own cryptocurrency    None\n",
       "4                                                       4            Non-currency applications of blockchain    None\n",
       "5                                                       5                                         Not at all    None"
      ]
     },
     "execution_count": 72,
     "metadata": {},
     "output_type": "execute_result"
    },
    {
     "data": {
      "text/html": [
       "<div>\n",
       "<style scoped>\n",
       "    .dataframe tbody tr th:only-of-type {\n",
       "        vertical-align: middle;\n",
       "    }\n",
       "\n",
       "    .dataframe tbody tr th {\n",
       "        vertical-align: top;\n",
       "    }\n",
       "\n",
       "    .dataframe thead th {\n",
       "        text-align: right;\n",
       "    }\n",
       "</style>\n",
       "<table border=\"1\" class=\"dataframe\">\n",
       "  <thead>\n",
       "    <tr style=\"text-align: right;\">\n",
       "      <th>single</th>\n",
       "      <th>codes</th>\n",
       "      <th>texts</th>\n",
       "      <th>missing</th>\n",
       "    </tr>\n",
       "    <tr>\n",
       "      <th>BlockchainIs: Blockchain / cryptocurrency technology is primarily:</th>\n",
       "      <th></th>\n",
       "      <th></th>\n",
       "      <th></th>\n",
       "    </tr>\n",
       "  </thead>\n",
       "  <tbody>\n",
       "    <tr>\n",
       "      <th>1</th>\n",
       "      <td>1</td>\n",
       "      <td>A passing fad</td>\n",
       "      <td>None</td>\n",
       "    </tr>\n",
       "    <tr>\n",
       "      <th>2</th>\n",
       "      <td>2</td>\n",
       "      <td>An irresponsible use of resources</td>\n",
       "      <td>None</td>\n",
       "    </tr>\n",
       "    <tr>\n",
       "      <th>3</th>\n",
       "      <td>3</td>\n",
       "      <td>Useful across many domains and could change ma...</td>\n",
       "      <td>None</td>\n",
       "    </tr>\n",
       "    <tr>\n",
       "      <th>4</th>\n",
       "      <td>4</td>\n",
       "      <td>Useful for decentralized currency (i.e., Bitcoin)</td>\n",
       "      <td>None</td>\n",
       "    </tr>\n",
       "    <tr>\n",
       "      <th>5</th>\n",
       "      <td>5</td>\n",
       "      <td>Useful for immutable record keeping outside of...</td>\n",
       "      <td>None</td>\n",
       "    </tr>\n",
       "  </tbody>\n",
       "</table>\n",
       "</div>"
      ],
      "text/plain": [
       "single                                              codes                                              texts missing\n",
       "BlockchainIs: Blockchain / cryptocurrency techn...                                                                  \n",
       "1                                                       1                                      A passing fad    None\n",
       "2                                                       2                  An irresponsible use of resources    None\n",
       "3                                                       3  Useful across many domains and could change ma...    None\n",
       "4                                                       4  Useful for decentralized currency (i.e., Bitcoin)    None\n",
       "5                                                       5  Useful for immutable record keeping outside of...    None"
      ]
     },
     "execution_count": 72,
     "metadata": {},
     "output_type": "execute_result"
    }
   ],
   "source": [
    "ds_all.meta(\"BlockchainOrg\")\n",
    "ds_all.meta(\"BlockchainIs\")"
   ]
  },
  {
   "cell_type": "markdown",
   "metadata": {},
   "source": [
    "We recode the three answers we are defining people by into a new variable, `BlockchainOrg_rec` and look at the results."
   ]
  },
  {
   "cell_type": "code",
   "execution_count": 73,
   "metadata": {},
   "outputs": [
    {
     "data": {
      "text/html": [
       "<div>\n",
       "<style scoped>\n",
       "    .dataframe tbody tr th:only-of-type {\n",
       "        vertical-align: middle;\n",
       "    }\n",
       "\n",
       "    .dataframe tbody tr th {\n",
       "        vertical-align: top;\n",
       "    }\n",
       "\n",
       "    .dataframe thead tr th {\n",
       "        text-align: left;\n",
       "    }\n",
       "\n",
       "    .dataframe thead tr:last-of-type th {\n",
       "        text-align: right;\n",
       "    }\n",
       "</style>\n",
       "<table border=\"1\" class=\"dataframe\">\n",
       "  <thead>\n",
       "    <tr>\n",
       "      <th></th>\n",
       "      <th>Question</th>\n",
       "      <th>BlockchainOrg_rec. Is your organisation using blockchain?</th>\n",
       "    </tr>\n",
       "    <tr>\n",
       "      <th></th>\n",
       "      <th>Values</th>\n",
       "      <th>@</th>\n",
       "    </tr>\n",
       "    <tr>\n",
       "      <th>Question</th>\n",
       "      <th>Values</th>\n",
       "      <th></th>\n",
       "    </tr>\n",
       "  </thead>\n",
       "  <tbody>\n",
       "    <tr>\n",
       "      <th rowspan=\"4\" valign=\"top\">BlockchainOrg_rec. Is your organisation using blockchain?</th>\n",
       "      <th>All</th>\n",
       "      <td>48175.0</td>\n",
       "    </tr>\n",
       "    <tr>\n",
       "      <th>Accepting</th>\n",
       "      <td>994.0</td>\n",
       "    </tr>\n",
       "    <tr>\n",
       "      <th>Implementing</th>\n",
       "      <td>8635.0</td>\n",
       "    </tr>\n",
       "    <tr>\n",
       "      <th>No</th>\n",
       "      <td>38546.0</td>\n",
       "    </tr>\n",
       "  </tbody>\n",
       "</table>\n",
       "</div>"
      ],
      "text/plain": [
       "Question                                                        BlockchainOrg_rec. Is your organisation using blockchain?\n",
       "Values                                                                                                                  @\n",
       "Question                                           Values                                                                \n",
       "BlockchainOrg_rec. Is your organisation using b... All                                                     48175.0       \n",
       "                                                   Accepting                                                 994.0       \n",
       "                                                   Implementing                                             8635.0       \n",
       "                                                   No                                                      38546.0       "
      ]
     },
     "execution_count": 73,
     "metadata": {},
     "output_type": "execute_result"
    }
   ],
   "source": [
    "ds_all.crosstab('BlockchainOrg_rec')"
   ]
  },
  {
   "cell_type": "markdown",
   "metadata": {},
   "source": [
    "## Blockchain the world over\n",
    "\n",
    "Where in the world is blockchain popular? We compare the distribution of programmers across countries for all respondends on one hand, and respondents who work in organisations that are im plementing block chain on the other. Then we plot the 15 countries where most developers reside and compare the percentages of the two groups."
   ]
  },
  {
   "cell_type": "code",
   "execution_count": 74,
   "metadata": {},
   "outputs": [],
   "source": [
    "compare = compare_crosstabs([\n",
    "    ds_btc.crosstab('Country', pct=True), \n",
    "    ds_all.crosstab('Country', pct=True)],\n",
    "    ['Blockchain devs',\"Everyone\"]\n",
    ")"
   ]
  },
  {
   "cell_type": "code",
   "execution_count": 75,
   "metadata": {},
   "outputs": [
    {
     "data": {
      "image/png": "[encoded data removed]",
      "text/plain": [
       "<Figure size 806.4x432 with 1 Axes>"
      ]
     },
     "metadata": {
      "needs_background": "light"
     },
     "output_type": "display_data"
    }
   ],
   "source": [
    "barplot(compare.sort_values(by=compare.columns[0],ascending=False).iloc[0:15,:],orient='v', title=\"Percentage of developers per country\")\n"
   ]
  },
  {
   "cell_type": "markdown",
   "metadata": {},
   "source": [
    "Of everyone who answered the survey, 23.6% are from the US and 10.2% are from India. Of all the Blockchain developers, a higher proportion of respondents are from India, or 13.2%."
   ]
  },
  {
   "cell_type": "markdown",
   "metadata": {},
   "source": [
    "We fetch a crosstab of Blockchain opinion and country"
   ]
  },
  {
   "cell_type": "code",
   "execution_count": 76,
   "metadata": {},
   "outputs": [
    {
     "data": {
      "text/html": [
       "<div>\n",
       "<style scoped>\n",
       "    .dataframe tbody tr th:only-of-type {\n",
       "        vertical-align: middle;\n",
       "    }\n",
       "\n",
       "    .dataframe tbody tr th {\n",
       "        vertical-align: top;\n",
       "    }\n",
       "\n",
       "    .dataframe thead tr th {\n",
       "        text-align: left;\n",
       "    }\n",
       "\n",
       "    .dataframe thead tr:last-of-type th {\n",
       "        text-align: right;\n",
       "    }\n",
       "</style>\n",
       "<table border=\"1\" class=\"dataframe\">\n",
       "  <thead>\n",
       "    <tr>\n",
       "      <th></th>\n",
       "      <th>Question</th>\n",
       "      <th colspan=\"21\" halign=\"left\">Country. In which country do you currently reside?</th>\n",
       "    </tr>\n",
       "    <tr>\n",
       "      <th></th>\n",
       "      <th>Values</th>\n",
       "      <th>All</th>\n",
       "      <th>Afghanistan</th>\n",
       "      <th>Albania</th>\n",
       "      <th>Algeria</th>\n",
       "      <th>Andorra</th>\n",
       "      <th>Angola</th>\n",
       "      <th>Antigua and Barbuda</th>\n",
       "      <th>Argentina</th>\n",
       "      <th>Armenia</th>\n",
       "      <th>Australia</th>\n",
       "      <th>...</th>\n",
       "      <th>United Kingdom</th>\n",
       "      <th>United Republic of Tanzania</th>\n",
       "      <th>United States</th>\n",
       "      <th>Uruguay</th>\n",
       "      <th>Uzbekistan</th>\n",
       "      <th>Venezuela, Bolivarian Republic of...</th>\n",
       "      <th>Viet Nam</th>\n",
       "      <th>Yemen</th>\n",
       "      <th>Zambia</th>\n",
       "      <th>Zimbabwe</th>\n",
       "    </tr>\n",
       "    <tr>\n",
       "      <th>Question</th>\n",
       "      <th>Values</th>\n",
       "      <th></th>\n",
       "      <th></th>\n",
       "      <th></th>\n",
       "      <th></th>\n",
       "      <th></th>\n",
       "      <th></th>\n",
       "      <th></th>\n",
       "      <th></th>\n",
       "      <th></th>\n",
       "      <th></th>\n",
       "      <th></th>\n",
       "      <th></th>\n",
       "      <th></th>\n",
       "      <th></th>\n",
       "      <th></th>\n",
       "      <th></th>\n",
       "      <th></th>\n",
       "      <th></th>\n",
       "      <th></th>\n",
       "      <th></th>\n",
       "      <th></th>\n",
       "    </tr>\n",
       "  </thead>\n",
       "  <tbody>\n",
       "    <tr>\n",
       "      <th rowspan=\"4\" valign=\"top\">BlockchainIs_rec. Blockchain is?</th>\n",
       "      <th>All</th>\n",
       "      <td>60165.0</td>\n",
       "      <td>19.0</td>\n",
       "      <td>46.0</td>\n",
       "      <td>52.0</td>\n",
       "      <td>7.0</td>\n",
       "      <td>2.0</td>\n",
       "      <td>7.0</td>\n",
       "      <td>374.0</td>\n",
       "      <td>50.0</td>\n",
       "      <td>1468.0</td>\n",
       "      <td>...</td>\n",
       "      <td>4318.0</td>\n",
       "      <td>19.0</td>\n",
       "      <td>15553.0</td>\n",
       "      <td>63.0</td>\n",
       "      <td>19.0</td>\n",
       "      <td>72.0</td>\n",
       "      <td>117.0</td>\n",
       "      <td>5.0</td>\n",
       "      <td>7.0</td>\n",
       "      <td>27.0</td>\n",
       "    </tr>\n",
       "    <tr>\n",
       "      <th>A passing fad</th>\n",
       "      <td>10085.0</td>\n",
       "      <td>5.0</td>\n",
       "      <td>9.0</td>\n",
       "      <td>6.0</td>\n",
       "      <td>1.0</td>\n",
       "      <td>0.0</td>\n",
       "      <td>1.0</td>\n",
       "      <td>37.0</td>\n",
       "      <td>4.0</td>\n",
       "      <td>327.0</td>\n",
       "      <td>...</td>\n",
       "      <td>1020.0</td>\n",
       "      <td>3.0</td>\n",
       "      <td>3381.0</td>\n",
       "      <td>10.0</td>\n",
       "      <td>1.0</td>\n",
       "      <td>5.0</td>\n",
       "      <td>8.0</td>\n",
       "      <td>0.0</td>\n",
       "      <td>1.0</td>\n",
       "      <td>0.0</td>\n",
       "    </tr>\n",
       "    <tr>\n",
       "      <th>An irresponsible use of resources</th>\n",
       "      <td>9364.0</td>\n",
       "      <td>2.0</td>\n",
       "      <td>3.0</td>\n",
       "      <td>4.0</td>\n",
       "      <td>4.0</td>\n",
       "      <td>0.0</td>\n",
       "      <td>1.0</td>\n",
       "      <td>38.0</td>\n",
       "      <td>4.0</td>\n",
       "      <td>249.0</td>\n",
       "      <td>...</td>\n",
       "      <td>838.0</td>\n",
       "      <td>1.0</td>\n",
       "      <td>2603.0</td>\n",
       "      <td>5.0</td>\n",
       "      <td>3.0</td>\n",
       "      <td>2.0</td>\n",
       "      <td>8.0</td>\n",
       "      <td>1.0</td>\n",
       "      <td>0.0</td>\n",
       "      <td>1.0</td>\n",
       "    </tr>\n",
       "    <tr>\n",
       "      <th>Useful</th>\n",
       "      <td>40716.0</td>\n",
       "      <td>12.0</td>\n",
       "      <td>34.0</td>\n",
       "      <td>42.0</td>\n",
       "      <td>2.0</td>\n",
       "      <td>2.0</td>\n",
       "      <td>5.0</td>\n",
       "      <td>299.0</td>\n",
       "      <td>42.0</td>\n",
       "      <td>892.0</td>\n",
       "      <td>...</td>\n",
       "      <td>2460.0</td>\n",
       "      <td>15.0</td>\n",
       "      <td>9569.0</td>\n",
       "      <td>48.0</td>\n",
       "      <td>15.0</td>\n",
       "      <td>65.0</td>\n",
       "      <td>101.0</td>\n",
       "      <td>4.0</td>\n",
       "      <td>6.0</td>\n",
       "      <td>26.0</td>\n",
       "    </tr>\n",
       "  </tbody>\n",
       "</table>\n",
       "<p>4 rows × 180 columns</p>\n",
       "</div>"
      ],
      "text/plain": [
       "Question                                                           Country. In which country do you currently reside?                                                                                             ...                                                                                                                                                \n",
       "Values                                                                                                            All Afghanistan Albania Algeria Andorra Angola Antigua and Barbuda Argentina Armenia Australia  ... United Kingdom United Republic of Tanzania United States Uruguay Uzbekistan Venezuela, Bolivarian Republic of... Viet Nam Yemen Zambia Zimbabwe\n",
       "Question                         Values                                                                                                                                                                           ...                                                                                                                                                \n",
       "BlockchainIs_rec. Blockchain is? All                                                                          60165.0        19.0    46.0    52.0     7.0    2.0                 7.0     374.0    50.0    1468.0  ...         4318.0                        19.0       15553.0    63.0       19.0                                 72.0    117.0   5.0    7.0     27.0\n",
       "                                 A passing fad                                                                10085.0         5.0     9.0     6.0     1.0    0.0                 1.0      37.0     4.0     327.0  ...         1020.0                         3.0        3381.0    10.0        1.0                                  5.0      8.0   0.0    1.0      0.0\n",
       "                                 An irresponsible use of resources                                             9364.0         2.0     3.0     4.0     4.0    0.0                 1.0      38.0     4.0     249.0  ...          838.0                         1.0        2603.0     5.0        3.0                                  2.0      8.0   1.0    0.0      1.0\n",
       "                                 Useful                                                                       40716.0        12.0    34.0    42.0     2.0    2.0                 5.0     299.0    42.0     892.0  ...         2460.0                        15.0        9569.0    48.0       15.0                                 65.0    101.0   4.0    6.0     26.0\n",
       "\n",
       "[4 rows x 180 columns]"
      ]
     },
     "execution_count": 76,
     "metadata": {},
     "output_type": "execute_result"
    }
   ],
   "source": [
    "worry_by_country= ds_all.crosstab(\"BlockchainIs_rec\",\"Country\",rules=True)\n",
    "worry_by_country"
   ]
  },
  {
   "cell_type": "markdown",
   "metadata": {},
   "source": [
    "We only want countries where more than 100 people responded"
   ]
  },
  {
   "cell_type": "code",
   "execution_count": 77,
   "metadata": {},
   "outputs": [],
   "source": [
    "valid = (worry_by_country.loc[('BlockchainIs_rec. Blockchain is?','All'),:]>100)"
   ]
  },
  {
   "cell_type": "markdown",
   "metadata": {},
   "source": [
    "Then we do the crosstab again, except this time ask for percentages. We use the valid series to drop countries with too few responses. Remember, we are calculating percentages within each country, so this doesn't effect the result."
   ]
  },
  {
   "cell_type": "code",
   "execution_count": 78,
   "metadata": {},
   "outputs": [],
   "source": [
    "worry_pct = ds_all.crosstab(\"BlockchainIs_rec\",\"Country\",pct=True) "
   ]
  },
  {
   "cell_type": "code",
   "execution_count": 79,
   "metadata": {},
   "outputs": [],
   "source": [
    "worry_pct = worry_pct.loc[:,valid]"
   ]
  },
  {
   "cell_type": "code",
   "execution_count": 80,
   "metadata": {},
   "outputs": [],
   "source": [
    "least_worried = worry_pct.loc[('BlockchainIs_rec. Blockchain is?','An irresponsible use of resources'),:].sort_values()\n",
    "most_worried = worry_pct.loc[('BlockchainIs_rec. Blockchain is?','An irresponsible use of resources'),:].sort_values(ascending=False)"
   ]
  },
  {
   "cell_type": "code",
   "execution_count": 81,
   "metadata": {},
   "outputs": [
    {
     "data": {
      "image/png": "[encoded data removed]",
      "text/plain": [
       "<Figure size 720x576 with 1 Axes>"
      ]
     },
     "metadata": {
      "needs_background": "light"
     },
     "output_type": "display_data"
    },
    {
     "data": {
      "image/png": "[encoded data removed]",
      "text/plain": [
       "<Figure size 720x576 with 1 Axes>"
      ]
     },
     "metadata": {
      "needs_background": "light"
     },
     "output_type": "display_data"
    }
   ],
   "source": [
    "barplot(least_worried[0:10],sort=\"descending\")\n",
    "barplot(most_worried[0:10],sort=\"ascending\")"
   ]
  },
  {
   "cell_type": "code",
   "execution_count": 82,
   "metadata": {},
   "outputs": [
    {
     "data": {
      "text/html": [
       "<div>\n",
       "<style scoped>\n",
       "    .dataframe tbody tr th:only-of-type {\n",
       "        vertical-align: middle;\n",
       "    }\n",
       "\n",
       "    .dataframe tbody tr th {\n",
       "        vertical-align: top;\n",
       "    }\n",
       "\n",
       "    .dataframe thead tr th {\n",
       "        text-align: left;\n",
       "    }\n",
       "\n",
       "    .dataframe thead tr:last-of-type th {\n",
       "        text-align: right;\n",
       "    }\n",
       "</style>\n",
       "<table border=\"1\" class=\"dataframe\">\n",
       "  <thead>\n",
       "    <tr>\n",
       "      <th></th>\n",
       "      <th>Question</th>\n",
       "      <th colspan=\"2\" halign=\"left\">Groups</th>\n",
       "    </tr>\n",
       "    <tr>\n",
       "      <th></th>\n",
       "      <th>Values</th>\n",
       "      <th>Everyone</th>\n",
       "      <th>Blockchain devs</th>\n",
       "    </tr>\n",
       "    <tr>\n",
       "      <th>Question</th>\n",
       "      <th>Values</th>\n",
       "      <th></th>\n",
       "      <th></th>\n",
       "    </tr>\n",
       "  </thead>\n",
       "  <tbody>\n",
       "    <tr>\n",
       "      <th rowspan=\"6\" valign=\"top\">BlockchainIs. Blockchain / cryptocurrency technology is primarily:</th>\n",
       "      <th>All</th>\n",
       "      <td>100.0</td>\n",
       "      <td>100.0</td>\n",
       "    </tr>\n",
       "    <tr>\n",
       "      <th>A passing fad</th>\n",
       "      <td>16.8</td>\n",
       "      <td>10.1</td>\n",
       "    </tr>\n",
       "    <tr>\n",
       "      <th>An irresponsible use of resources</th>\n",
       "      <td>15.6</td>\n",
       "      <td>7.9</td>\n",
       "    </tr>\n",
       "    <tr>\n",
       "      <th>Useful across many domains and could change many aspects of our lives</th>\n",
       "      <td>29.2</td>\n",
       "      <td>33.4</td>\n",
       "    </tr>\n",
       "    <tr>\n",
       "      <th>Useful for decentralized currency (i.e., Bitcoin)</th>\n",
       "      <td>12.2</td>\n",
       "      <td>7.9</td>\n",
       "    </tr>\n",
       "    <tr>\n",
       "      <th>Useful for immutable record keeping outside of currency</th>\n",
       "      <td>26.2</td>\n",
       "      <td>40.7</td>\n",
       "    </tr>\n",
       "  </tbody>\n",
       "</table>\n",
       "</div>"
      ],
      "text/plain": [
       "Question                                                                                                Groups                \n",
       "Values                                                                                                Everyone Blockchain devs\n",
       "Question                                           Values                                                                     \n",
       "BlockchainIs. Blockchain / cryptocurrency techn... All                                                   100.0           100.0\n",
       "                                                   A passing fad                                          16.8            10.1\n",
       "                                                   An irresponsible use of resources                      15.6             7.9\n",
       "                                                   Useful across many domains and could change man...     29.2            33.4\n",
       "                                                   Useful for decentralized currency (i.e., Bitcoin)      12.2             7.9\n",
       "                                                   Useful for immutable record keeping outside of ...     26.2            40.7"
      ]
     },
     "execution_count": 82,
     "metadata": {},
     "output_type": "execute_result"
    }
   ],
   "source": [
    "compare_crosstabs([ds_all.crosstab(\"BlockchainIs\",pct=True),ds_btc.crosstab(\"BlockchainIs\",pct=True)],[\"Everyone\", \"Blockchain devs\"])"
   ]
  },
  {
   "cell_type": "code",
   "execution_count": 83,
   "metadata": {},
   "outputs": [
    {
     "data": {
      "text/html": [
       "<div>\n",
       "<style scoped>\n",
       "    .dataframe tbody tr th:only-of-type {\n",
       "        vertical-align: middle;\n",
       "    }\n",
       "\n",
       "    .dataframe tbody tr th {\n",
       "        vertical-align: top;\n",
       "    }\n",
       "\n",
       "    .dataframe thead tr th {\n",
       "        text-align: left;\n",
       "    }\n",
       "\n",
       "    .dataframe thead tr:last-of-type th {\n",
       "        text-align: right;\n",
       "    }\n",
       "</style>\n",
       "<table border=\"1\" class=\"dataframe\">\n",
       "  <thead>\n",
       "    <tr>\n",
       "      <th></th>\n",
       "      <th>Question</th>\n",
       "      <th colspan=\"4\" halign=\"left\">BlockchainIs_rec. Blockchain is?</th>\n",
       "    </tr>\n",
       "    <tr>\n",
       "      <th></th>\n",
       "      <th>Values</th>\n",
       "      <th>All</th>\n",
       "      <th>A passing fad</th>\n",
       "      <th>An irresponsible use of resources</th>\n",
       "      <th>Useful</th>\n",
       "    </tr>\n",
       "    <tr>\n",
       "      <th>Question</th>\n",
       "      <th>Values</th>\n",
       "      <th></th>\n",
       "      <th></th>\n",
       "      <th></th>\n",
       "      <th></th>\n",
       "    </tr>\n",
       "  </thead>\n",
       "  <tbody>\n",
       "    <tr>\n",
       "      <th rowspan=\"7\" valign=\"top\">grouped_experience. How many years have you been coding?</th>\n",
       "      <th>All</th>\n",
       "      <td>59829.0</td>\n",
       "      <td>10033.0</td>\n",
       "      <td>9299.0</td>\n",
       "      <td>40497.0</td>\n",
       "    </tr>\n",
       "    <tr>\n",
       "      <th>Less than 5 years</th>\n",
       "      <td>10346.0</td>\n",
       "      <td>1364.0</td>\n",
       "      <td>873.0</td>\n",
       "      <td>8109.0</td>\n",
       "    </tr>\n",
       "    <tr>\n",
       "      <th>5-9</th>\n",
       "      <td>18217.0</td>\n",
       "      <td>2875.0</td>\n",
       "      <td>2262.0</td>\n",
       "      <td>13080.0</td>\n",
       "    </tr>\n",
       "    <tr>\n",
       "      <th>10-19</th>\n",
       "      <td>19228.0</td>\n",
       "      <td>3548.0</td>\n",
       "      <td>3376.0</td>\n",
       "      <td>12304.0</td>\n",
       "    </tr>\n",
       "    <tr>\n",
       "      <th>20-29</th>\n",
       "      <td>7573.0</td>\n",
       "      <td>1392.0</td>\n",
       "      <td>1742.0</td>\n",
       "      <td>4439.0</td>\n",
       "    </tr>\n",
       "    <tr>\n",
       "      <th>30-39</th>\n",
       "      <td>3602.0</td>\n",
       "      <td>685.0</td>\n",
       "      <td>867.0</td>\n",
       "      <td>2050.0</td>\n",
       "    </tr>\n",
       "    <tr>\n",
       "      <th>More than 40 years</th>\n",
       "      <td>863.0</td>\n",
       "      <td>169.0</td>\n",
       "      <td>179.0</td>\n",
       "      <td>515.0</td>\n",
       "    </tr>\n",
       "  </tbody>\n",
       "</table>\n",
       "</div>"
      ],
      "text/plain": [
       "Question                                                              BlockchainIs_rec. Blockchain is?                                                         \n",
       "Values                                                                                             All A passing fad An irresponsible use of resources   Useful\n",
       "Question                                           Values                                                                                                      \n",
       "grouped_experience. How many years have you bee... All                                         59829.0       10033.0                            9299.0  40497.0\n",
       "                                                   Less than 5 years                           10346.0        1364.0                             873.0   8109.0\n",
       "                                                   5-9                                         18217.0        2875.0                            2262.0  13080.0\n",
       "                                                   10-19                                       19228.0        3548.0                            3376.0  12304.0\n",
       "                                                   20-29                                        7573.0        1392.0                            1742.0   4439.0\n",
       "                                                   30-39                                        3602.0         685.0                             867.0   2050.0\n",
       "                                                   More than 40 years                            863.0         169.0                             179.0    515.0"
      ]
     },
     "execution_count": 83,
     "metadata": {},
     "output_type": "execute_result"
    }
   ],
   "source": [
    "ds_all.crosstab(\"BlockchainIs_rec\",\"grouped_experience\",pct=False).T"
   ]
  },
  {
   "cell_type": "code",
   "execution_count": 84,
   "metadata": {},
   "outputs": [
    {
     "data": {
      "text/html": [
       "<div>\n",
       "<style scoped>\n",
       "    .dataframe tbody tr th:only-of-type {\n",
       "        vertical-align: middle;\n",
       "    }\n",
       "\n",
       "    .dataframe tbody tr th {\n",
       "        vertical-align: top;\n",
       "    }\n",
       "\n",
       "    .dataframe thead tr th {\n",
       "        text-align: left;\n",
       "    }\n",
       "\n",
       "    .dataframe thead tr:last-of-type th {\n",
       "        text-align: right;\n",
       "    }\n",
       "</style>\n",
       "<table border=\"1\" class=\"dataframe\">\n",
       "  <thead>\n",
       "    <tr>\n",
       "      <th></th>\n",
       "      <th>Question</th>\n",
       "      <th colspan=\"4\" halign=\"left\">BlockchainIs_rec. Blockchain is?</th>\n",
       "    </tr>\n",
       "    <tr>\n",
       "      <th></th>\n",
       "      <th>Values</th>\n",
       "      <th>All</th>\n",
       "      <th>A passing fad</th>\n",
       "      <th>An irresponsible use of resources</th>\n",
       "      <th>Useful</th>\n",
       "    </tr>\n",
       "    <tr>\n",
       "      <th>Question</th>\n",
       "      <th>Values</th>\n",
       "      <th></th>\n",
       "      <th></th>\n",
       "      <th></th>\n",
       "      <th></th>\n",
       "    </tr>\n",
       "  </thead>\n",
       "  <tbody>\n",
       "    <tr>\n",
       "      <th rowspan=\"12\" valign=\"top\">grouped_age. Age groups</th>\n",
       "      <th>All</th>\n",
       "      <td>100.0</td>\n",
       "      <td>16.8</td>\n",
       "      <td>15.8</td>\n",
       "      <td>67.4</td>\n",
       "    </tr>\n",
       "    <tr>\n",
       "      <th>Younger than 15</th>\n",
       "      <td>100.0</td>\n",
       "      <td>15.8</td>\n",
       "      <td>9.0</td>\n",
       "      <td>75.2</td>\n",
       "    </tr>\n",
       "    <tr>\n",
       "      <th>15-19</th>\n",
       "      <td>100.0</td>\n",
       "      <td>15.3</td>\n",
       "      <td>10.6</td>\n",
       "      <td>74.1</td>\n",
       "    </tr>\n",
       "    <tr>\n",
       "      <th>20-24</th>\n",
       "      <td>100.0</td>\n",
       "      <td>15.2</td>\n",
       "      <td>11.3</td>\n",
       "      <td>73.4</td>\n",
       "    </tr>\n",
       "    <tr>\n",
       "      <th>25-29</th>\n",
       "      <td>100.0</td>\n",
       "      <td>16.9</td>\n",
       "      <td>13.7</td>\n",
       "      <td>69.4</td>\n",
       "    </tr>\n",
       "    <tr>\n",
       "      <th>30-34</th>\n",
       "      <td>100.0</td>\n",
       "      <td>17.6</td>\n",
       "      <td>18.3</td>\n",
       "      <td>64.1</td>\n",
       "    </tr>\n",
       "    <tr>\n",
       "      <th>35-39</th>\n",
       "      <td>100.0</td>\n",
       "      <td>17.8</td>\n",
       "      <td>19.9</td>\n",
       "      <td>62.3</td>\n",
       "    </tr>\n",
       "    <tr>\n",
       "      <th>40-44</th>\n",
       "      <td>100.0</td>\n",
       "      <td>16.8</td>\n",
       "      <td>22.3</td>\n",
       "      <td>60.9</td>\n",
       "    </tr>\n",
       "    <tr>\n",
       "      <th>45-49</th>\n",
       "      <td>100.0</td>\n",
       "      <td>17.5</td>\n",
       "      <td>21.3</td>\n",
       "      <td>61.2</td>\n",
       "    </tr>\n",
       "    <tr>\n",
       "      <th>50-54</th>\n",
       "      <td>100.0</td>\n",
       "      <td>19.4</td>\n",
       "      <td>20.8</td>\n",
       "      <td>59.8</td>\n",
       "    </tr>\n",
       "    <tr>\n",
       "      <th>55-59</th>\n",
       "      <td>100.0</td>\n",
       "      <td>20.3</td>\n",
       "      <td>19.0</td>\n",
       "      <td>60.8</td>\n",
       "    </tr>\n",
       "    <tr>\n",
       "      <th>60+</th>\n",
       "      <td>100.0</td>\n",
       "      <td>19.5</td>\n",
       "      <td>18.0</td>\n",
       "      <td>62.6</td>\n",
       "    </tr>\n",
       "  </tbody>\n",
       "</table>\n",
       "</div>"
      ],
      "text/plain": [
       "Question                                BlockchainIs_rec. Blockchain is?                                                       \n",
       "Values                                                               All A passing fad An irresponsible use of resources Useful\n",
       "Question                Values                                                                                                 \n",
       "grouped_age. Age groups All                                        100.0          16.8                              15.8   67.4\n",
       "                        Younger than 15                            100.0          15.8                               9.0   75.2\n",
       "                        15-19                                      100.0          15.3                              10.6   74.1\n",
       "                        20-24                                      100.0          15.2                              11.3   73.4\n",
       "                        25-29                                      100.0          16.9                              13.7   69.4\n",
       "                        30-34                                      100.0          17.6                              18.3   64.1\n",
       "                        35-39                                      100.0          17.8                              19.9   62.3\n",
       "                        40-44                                      100.0          16.8                              22.3   60.9\n",
       "                        45-49                                      100.0          17.5                              21.3   61.2\n",
       "                        50-54                                      100.0          19.4                              20.8   59.8\n",
       "                        55-59                                      100.0          20.3                              19.0   60.8\n",
       "                        60+                                        100.0          19.5                              18.0   62.6"
      ]
     },
     "execution_count": 84,
     "metadata": {},
     "output_type": "execute_result"
    }
   ],
   "source": [
    "ds_all.crosstab(\"BlockchainIs_rec\",\"grouped_age\",pct=True).T"
   ]
  },
  {
   "cell_type": "markdown",
   "metadata": {},
   "source": [
    "# General demographics"
   ]
  },
  {
   "cell_type": "code",
   "execution_count": 85,
   "metadata": {},
   "outputs": [
    {
     "data": {
      "image/png": "[encoded data removed]",
      "text/plain": [
       "<Figure size 720x432 with 1 Axes>"
      ]
     },
     "metadata": {
      "needs_background": "light"
     },
     "output_type": "display_data"
    }
   ],
   "source": [
    "barplot(ds_all.crosstab('Gender',pct=True))"
   ]
  },
  {
   "cell_type": "code",
   "execution_count": 86,
   "metadata": {},
   "outputs": [
    {
     "data": {
      "image/png": "[encoded data removed]",
      "text/plain": [
       "<Figure size 720x633.6 with 1 Axes>"
      ]
     },
     "metadata": {
      "needs_background": "light"
     },
     "output_type": "display_data"
    }
   ],
   "source": [
    "barplot(ds_all.crosstab(\"grouped_age\",pct=True))"
   ]
  },
  {
   "cell_type": "code",
   "execution_count": 87,
   "metadata": {},
   "outputs": [
    {
     "data": {
      "image/png": "[encoded data removed]",
      "text/plain": [
       "<Figure size 720x432 with 1 Axes>"
      ]
     },
     "metadata": {
      "needs_background": "light"
     },
     "output_type": "display_data"
    }
   ],
   "source": [
    "barplot(ds_all.crosstab(\"grouped_experience\"))"
   ]
  },
  {
   "cell_type": "code",
   "execution_count": null,
   "metadata": {},
   "outputs": [],
   "source": []
  }
 ],
 "metadata": {
  "kernelspec": {
   "display_name": "Python 3",
   "language": "python",
   "name": "python3"
  },
  "language_info": {
   "codemirror_mode": {
    "name": "ipython",
    "version": 3
   },
   "file_extension": ".py",
   "mimetype": "text/x-python",
   "name": "python",
   "nbconvert_exporter": "python",
   "pygments_lexer": "ipython3",
   "version": "3.7.1"
  }
 },
 "nbformat": 4,
 "nbformat_minor": 2
}
